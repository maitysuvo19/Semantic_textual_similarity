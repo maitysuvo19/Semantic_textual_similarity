{
  "nbformat": 4,
  "nbformat_minor": 0,
  "metadata": {
    "colab": {
      "name": "Word2vec-sts.ipynb",
      "provenance": [],
      "collapsed_sections": [],
      "mount_file_id": "11qjcB-INZ48Y0KRxbITeOmzSZttmrdHn",
      "authorship_tag": "ABX9TyOOINGNnzSIuWYy+uNu6gOv",
      "include_colab_link": true
    },
    "kernelspec": {
      "name": "python3",
      "display_name": "Python 3"
    },
    "language_info": {
      "name": "python"
    }
  },
  "cells": [
    {
      "cell_type": "markdown",
      "metadata": {
        "id": "view-in-github",
        "colab_type": "text"
      },
      "source": [
        "<a href=\"https://colab.research.google.com/github/maitysuvo19/Semantic_textual_similarity/blob/main/Word2vec_sts.ipynb\" target=\"_parent\"><img src=\"https://colab.research.google.com/assets/colab-badge.svg\" alt=\"Open In Colab\"/></a>"
      ]
    },
    {
      "cell_type": "code",
      "metadata": {
        "id": "4eAZqgo2YF6_"
      },
      "source": [
        "#basic imports\n",
        "import pandas as pd\n",
        "import numpy as np"
      ],
      "execution_count": null,
      "outputs": []
    },
    {
      "cell_type": "code",
      "metadata": {
        "id": "jMsw1DWhY9t5"
      },
      "source": [
        "#loading the data set\n",
        "df=pd.read_csv('/content/drive/MyDrive/nlp data/Text_Similarity_Dataset.csv')"
      ],
      "execution_count": null,
      "outputs": []
    },
    {
      "cell_type": "code",
      "metadata": {
        "colab": {
          "base_uri": "https://localhost:8080/",
          "height": 136
        },
        "id": "8M98DkxBZEfZ",
        "outputId": "85b04ad4-bec3-4eb1-f7f8-eb2b3aa81268"
      },
      "source": [
        "#view first few rows of the dataset\n",
        "df.head(3)"
      ],
      "execution_count": null,
      "outputs": [
        {
          "output_type": "execute_result",
          "data": {
            "text/html": [
              "<div>\n",
              "<style scoped>\n",
              "    .dataframe tbody tr th:only-of-type {\n",
              "        vertical-align: middle;\n",
              "    }\n",
              "\n",
              "    .dataframe tbody tr th {\n",
              "        vertical-align: top;\n",
              "    }\n",
              "\n",
              "    .dataframe thead th {\n",
              "        text-align: right;\n",
              "    }\n",
              "</style>\n",
              "<table border=\"1\" class=\"dataframe\">\n",
              "  <thead>\n",
              "    <tr style=\"text-align: right;\">\n",
              "      <th></th>\n",
              "      <th>Unique_ID</th>\n",
              "      <th>text1</th>\n",
              "      <th>text2</th>\n",
              "    </tr>\n",
              "  </thead>\n",
              "  <tbody>\n",
              "    <tr>\n",
              "      <th>0</th>\n",
              "      <td>0</td>\n",
              "      <td>savvy searchers fail to spot ads internet sear...</td>\n",
              "      <td>newcastle 2-1 bolton kieron dyer smashed home ...</td>\n",
              "    </tr>\n",
              "    <tr>\n",
              "      <th>1</th>\n",
              "      <td>1</td>\n",
              "      <td>millions to miss out on the net by 2025  40% o...</td>\n",
              "      <td>nasdaq planning $100m share sale the owner of ...</td>\n",
              "    </tr>\n",
              "    <tr>\n",
              "      <th>2</th>\n",
              "      <td>2</td>\n",
              "      <td>young debut cut short by ginepri fifteen-year-...</td>\n",
              "      <td>ruddock backs yapp s credentials wales coach m...</td>\n",
              "    </tr>\n",
              "  </tbody>\n",
              "</table>\n",
              "</div>"
            ],
            "text/plain": [
              "   Unique_ID  ...                                              text2\n",
              "0          0  ...  newcastle 2-1 bolton kieron dyer smashed home ...\n",
              "1          1  ...  nasdaq planning $100m share sale the owner of ...\n",
              "2          2  ...  ruddock backs yapp s credentials wales coach m...\n",
              "\n",
              "[3 rows x 3 columns]"
            ]
          },
          "metadata": {
            "tags": []
          },
          "execution_count": 3
        }
      ]
    },
    {
      "cell_type": "code",
      "metadata": {
        "colab": {
          "base_uri": "https://localhost:8080/"
        },
        "id": "tatJQGwJZLAR",
        "outputId": "9dbda819-6be2-4df8-b121-db1662eec66e"
      },
      "source": [
        "#importing packages for pre-processing texts\n",
        "import re    # for regular expressions \n",
        "import nltk  # for text manipulation \n",
        "nltk.download('stopwords')\n",
        "from nltk.stem import SnowballStemmer\n",
        "from nltk.corpus import stopwords\n",
        "import string "
      ],
      "execution_count": null,
      "outputs": [
        {
          "output_type": "stream",
          "text": [
            "[nltk_data] Downloading package stopwords to /root/nltk_data...\n",
            "[nltk_data]   Package stopwords is already up-to-date!\n"
          ],
          "name": "stdout"
        }
      ]
    },
    {
      "cell_type": "code",
      "metadata": {
        "id": "GiO8BV1vZPoq"
      },
      "source": [
        "stop_words = stopwords.words('english')\n",
        "stemmer = SnowballStemmer('english')\n",
        "text_cleaning_re = \"@\\S+|https?:\\S+|http?:\\S|[^A-Za-z0-9]+\""
      ],
      "execution_count": null,
      "outputs": []
    },
    {
      "cell_type": "code",
      "metadata": {
        "id": "bwpn2sRQZTbR"
      },
      "source": [
        "#function to preprocess texts\n",
        "def preprocess(text, stem=True):\n",
        "  text = re.sub(text_cleaning_re, ' ', str(text).lower()).strip()\n",
        "  tokens = []\n",
        "  for token in text.split():\n",
        "    if token not in stop_words:\n",
        "      if stem:\n",
        "        tokens.append(stemmer.stem(token))\n",
        "      else:\n",
        "        tokens.append(token)\n",
        "  return \" \".join(tokens)"
      ],
      "execution_count": null,
      "outputs": []
    },
    {
      "cell_type": "code",
      "metadata": {
        "id": "MyEt-84FZbSy"
      },
      "source": [
        "df.text1 = df.text1.apply(lambda x: preprocess(x))\n",
        "df.text2 = df.text2.apply(lambda x: preprocess(x))"
      ],
      "execution_count": null,
      "outputs": []
    },
    {
      "cell_type": "code",
      "metadata": {
        "colab": {
          "base_uri": "https://localhost:8080/",
          "height": 195
        },
        "id": "Pbvq150BZtL6",
        "outputId": "70c5e2c6-3cd6-4ce0-9097-10ee5ef87010"
      },
      "source": [
        "#preprocessed dataframe\n",
        "df.head()"
      ],
      "execution_count": null,
      "outputs": [
        {
          "output_type": "execute_result",
          "data": {
            "text/html": [
              "<div>\n",
              "<style scoped>\n",
              "    .dataframe tbody tr th:only-of-type {\n",
              "        vertical-align: middle;\n",
              "    }\n",
              "\n",
              "    .dataframe tbody tr th {\n",
              "        vertical-align: top;\n",
              "    }\n",
              "\n",
              "    .dataframe thead th {\n",
              "        text-align: right;\n",
              "    }\n",
              "</style>\n",
              "<table border=\"1\" class=\"dataframe\">\n",
              "  <thead>\n",
              "    <tr style=\"text-align: right;\">\n",
              "      <th></th>\n",
              "      <th>Unique_ID</th>\n",
              "      <th>text1</th>\n",
              "      <th>text2</th>\n",
              "    </tr>\n",
              "  </thead>\n",
              "  <tbody>\n",
              "    <tr>\n",
              "      <th>0</th>\n",
              "      <td>0</td>\n",
              "      <td>savvi searcher fail spot ad internet search en...</td>\n",
              "      <td>newcastl 2 1 bolton kieron dyer smash home win...</td>\n",
              "    </tr>\n",
              "    <tr>\n",
              "      <th>1</th>\n",
              "      <td>1</td>\n",
              "      <td>million miss net 2025 40 uk popul still withou...</td>\n",
              "      <td>nasdaq plan 100m share sale owner technolog do...</td>\n",
              "    </tr>\n",
              "    <tr>\n",
              "      <th>2</th>\n",
              "      <td>2</td>\n",
              "      <td>young debut cut short ginepri fifteen year old...</td>\n",
              "      <td>ruddock back yapp credenti wale coach mike rud...</td>\n",
              "    </tr>\n",
              "    <tr>\n",
              "      <th>3</th>\n",
              "      <td>3</td>\n",
              "      <td>diageo buy us wine firm diageo world biggest s...</td>\n",
              "      <td>mci share climb takeov bid share us phone comp...</td>\n",
              "    </tr>\n",
              "    <tr>\n",
              "      <th>4</th>\n",
              "      <td>4</td>\n",
              "      <td>care code new european direct could put softwa...</td>\n",
              "      <td>media gadget get move pocket size devic let pe...</td>\n",
              "    </tr>\n",
              "  </tbody>\n",
              "</table>\n",
              "</div>"
            ],
            "text/plain": [
              "   Unique_ID  ...                                              text2\n",
              "0          0  ...  newcastl 2 1 bolton kieron dyer smash home win...\n",
              "1          1  ...  nasdaq plan 100m share sale owner technolog do...\n",
              "2          2  ...  ruddock back yapp credenti wale coach mike rud...\n",
              "3          3  ...  mci share climb takeov bid share us phone comp...\n",
              "4          4  ...  media gadget get move pocket size devic let pe...\n",
              "\n",
              "[5 rows x 3 columns]"
            ]
          },
          "metadata": {
            "tags": []
          },
          "execution_count": 8
        }
      ]
    },
    {
      "cell_type": "code",
      "metadata": {
        "id": "eICf6mqKZ6WV"
      },
      "source": [
        "from gensim.models import Word2Vec, KeyedVectors"
      ],
      "execution_count": null,
      "outputs": []
    },
    {
      "cell_type": "code",
      "metadata": {
        "colab": {
          "base_uri": "https://localhost:8080/"
        },
        "id": "9CwEW46zZ0Hi",
        "outputId": "38063552-92fc-4353-92c0-ade7a644daf5"
      },
      "source": [
        "#Load W2V model. This will take some time. \n",
        "%time w2v_model = KeyedVectors.load_word2vec_format(\"/content/drive/MyDrive/nlp data/GoogleNews-vectors-negative300.bin.gz\", binary=True)\n",
        "print('done loading Word2Vec')"
      ],
      "execution_count": null,
      "outputs": [
        {
          "output_type": "stream",
          "text": [
            "CPU times: user 2min 9s, sys: 6.74 s, total: 2min 16s\n",
            "Wall time: 2min 16s\n",
            "done loading Word2Vec\n"
          ],
          "name": "stdout"
        }
      ]
    },
    {
      "cell_type": "code",
      "metadata": {
        "colab": {
          "base_uri": "https://localhost:8080/"
        },
        "id": "Qbi3wAiMauHq",
        "outputId": "99fbbc84-1ae6-4ce1-ac53-258c13c41237"
      },
      "source": [
        "#What is the vector representation for a word? \n",
        "w2v_model['computer']"
      ],
      "execution_count": null,
      "outputs": [
        {
          "output_type": "execute_result",
          "data": {
            "text/plain": [
              "array([ 1.07421875e-01, -2.01171875e-01,  1.23046875e-01,  2.11914062e-01,\n",
              "       -9.13085938e-02,  2.16796875e-01, -1.31835938e-01,  8.30078125e-02,\n",
              "        2.02148438e-01,  4.78515625e-02,  3.66210938e-02, -2.45361328e-02,\n",
              "        2.39257812e-02, -1.60156250e-01, -2.61230469e-02,  9.71679688e-02,\n",
              "       -6.34765625e-02,  1.84570312e-01,  1.70898438e-01, -1.63085938e-01,\n",
              "       -1.09375000e-01,  1.49414062e-01, -4.65393066e-04,  9.61914062e-02,\n",
              "        1.68945312e-01,  2.60925293e-03,  8.93554688e-02,  6.49414062e-02,\n",
              "        3.56445312e-02, -6.93359375e-02, -1.46484375e-01, -1.21093750e-01,\n",
              "       -2.27539062e-01,  2.45361328e-02, -1.24511719e-01, -3.18359375e-01,\n",
              "       -2.20703125e-01,  1.30859375e-01,  3.66210938e-02, -3.63769531e-02,\n",
              "       -1.13281250e-01,  1.95312500e-01,  9.76562500e-02,  1.26953125e-01,\n",
              "        6.59179688e-02,  6.93359375e-02,  1.02539062e-02,  1.75781250e-01,\n",
              "       -1.68945312e-01,  1.21307373e-03, -2.98828125e-01, -1.15234375e-01,\n",
              "        5.66406250e-02, -1.77734375e-01, -2.08984375e-01,  1.76757812e-01,\n",
              "        2.38037109e-02, -2.57812500e-01, -4.46777344e-02,  1.88476562e-01,\n",
              "        5.51757812e-02,  5.02929688e-02, -1.06933594e-01,  1.89453125e-01,\n",
              "       -1.16210938e-01,  8.49609375e-02, -1.71875000e-01,  2.45117188e-01,\n",
              "       -1.73828125e-01, -8.30078125e-03,  4.56542969e-02, -1.61132812e-02,\n",
              "        1.86523438e-01, -6.05468750e-02, -4.17480469e-02,  1.82617188e-01,\n",
              "        2.20703125e-01, -1.22558594e-01, -2.55126953e-02, -3.08593750e-01,\n",
              "        9.13085938e-02,  1.60156250e-01,  1.70898438e-01,  1.19628906e-01,\n",
              "        7.08007812e-02, -2.64892578e-02, -3.08837891e-02,  4.06250000e-01,\n",
              "       -1.01562500e-01,  5.71289062e-02, -7.26318359e-03, -9.17968750e-02,\n",
              "       -1.50390625e-01, -2.55859375e-01,  2.16796875e-01, -3.63769531e-02,\n",
              "        2.24609375e-01,  8.00781250e-02,  1.56250000e-01,  5.27343750e-02,\n",
              "        1.50390625e-01, -1.14746094e-01, -8.64257812e-02,  1.19140625e-01,\n",
              "       -7.17773438e-02,  2.73437500e-01, -1.64062500e-01,  7.29370117e-03,\n",
              "        4.21875000e-01, -1.12792969e-01, -1.35742188e-01, -1.31835938e-01,\n",
              "       -1.37695312e-01, -7.66601562e-02,  6.25000000e-02,  4.98046875e-02,\n",
              "       -1.91406250e-01, -6.03027344e-02,  2.27539062e-01,  5.88378906e-02,\n",
              "       -3.24218750e-01,  5.41992188e-02, -1.35742188e-01,  8.17871094e-03,\n",
              "       -5.24902344e-02, -1.74713135e-03, -9.81445312e-02, -2.86865234e-02,\n",
              "        3.61328125e-02,  2.15820312e-01,  5.98144531e-02, -3.08593750e-01,\n",
              "       -2.27539062e-01,  2.61718750e-01,  9.86328125e-02, -5.07812500e-02,\n",
              "        1.78222656e-02,  1.31835938e-01, -5.35156250e-01, -1.81640625e-01,\n",
              "        1.38671875e-01, -3.10546875e-01, -9.71679688e-02,  1.31835938e-01,\n",
              "       -1.16210938e-01,  7.03125000e-02,  2.85156250e-01,  3.51562500e-02,\n",
              "       -1.01562500e-01, -3.75976562e-02,  1.41601562e-01,  1.42578125e-01,\n",
              "       -5.68847656e-02,  2.65625000e-01, -2.09960938e-01,  9.64355469e-03,\n",
              "       -6.68945312e-02, -4.83398438e-02, -6.10351562e-02,  2.45117188e-01,\n",
              "       -9.66796875e-02,  1.78222656e-02, -1.27929688e-01, -4.78515625e-02,\n",
              "       -7.26318359e-03,  1.79687500e-01,  2.78320312e-02, -2.10937500e-01,\n",
              "       -1.43554688e-01, -1.27929688e-01,  1.73339844e-02, -3.60107422e-03,\n",
              "       -2.04101562e-01,  3.63159180e-03, -1.19628906e-01, -6.15234375e-02,\n",
              "        5.93261719e-02, -3.23486328e-03, -1.70898438e-01, -3.14941406e-02,\n",
              "       -8.88671875e-02, -2.89062500e-01,  3.44238281e-02, -1.87500000e-01,\n",
              "        2.94921875e-01,  1.58203125e-01, -1.19628906e-01,  7.61718750e-02,\n",
              "        6.39648438e-02, -4.68750000e-02, -6.83593750e-02,  1.21459961e-02,\n",
              "       -1.44531250e-01,  4.54101562e-02,  3.68652344e-02,  3.88671875e-01,\n",
              "        1.45507812e-01, -2.55859375e-01, -4.46777344e-02, -1.33789062e-01,\n",
              "       -1.38671875e-01,  6.59179688e-02,  1.37695312e-01,  1.14746094e-01,\n",
              "        2.03125000e-01, -4.78515625e-02,  1.80664062e-02, -8.54492188e-02,\n",
              "       -2.48046875e-01, -3.39843750e-01, -2.83203125e-02,  1.05468750e-01,\n",
              "       -2.14843750e-01, -8.74023438e-02,  7.12890625e-02,  1.87500000e-01,\n",
              "       -1.12304688e-01,  2.73437500e-01, -3.26171875e-01, -1.77734375e-01,\n",
              "       -4.24804688e-02, -2.69531250e-01,  6.64062500e-02, -6.88476562e-02,\n",
              "       -1.99218750e-01, -7.03125000e-02, -2.43164062e-01, -3.66210938e-02,\n",
              "       -7.37304688e-02, -1.77734375e-01,  9.17968750e-02, -1.25000000e-01,\n",
              "       -1.65039062e-01, -3.57421875e-01, -2.85156250e-01, -1.66992188e-01,\n",
              "        1.97265625e-01, -1.53320312e-01,  2.31933594e-02,  2.06054688e-01,\n",
              "        1.80664062e-01, -2.74658203e-02, -1.92382812e-01, -9.61914062e-02,\n",
              "       -1.06811523e-02, -4.73632812e-02,  6.54296875e-02, -1.25732422e-02,\n",
              "        1.78222656e-02, -8.00781250e-02, -2.59765625e-01,  9.37500000e-02,\n",
              "       -7.81250000e-02,  4.68750000e-02, -2.22167969e-02,  1.86767578e-02,\n",
              "        3.11279297e-02,  1.04980469e-02, -1.69921875e-01,  2.58789062e-02,\n",
              "       -3.41796875e-02, -1.44042969e-02, -5.46875000e-02, -8.78906250e-02,\n",
              "        1.96838379e-03,  2.23632812e-01, -1.36718750e-01,  1.75781250e-01,\n",
              "       -1.63085938e-01,  1.87500000e-01,  3.44238281e-02, -5.63964844e-02,\n",
              "       -2.27689743e-05,  4.27246094e-02,  5.81054688e-02, -1.07910156e-01,\n",
              "       -3.88183594e-02, -2.69531250e-01,  3.34472656e-02,  9.81445312e-02,\n",
              "        5.63964844e-02,  2.23632812e-01, -5.49316406e-02,  1.46484375e-01,\n",
              "        5.93261719e-02, -2.19726562e-01,  6.39648438e-02,  1.66015625e-02,\n",
              "        4.56542969e-02,  3.26171875e-01, -3.80859375e-01,  1.70898438e-01,\n",
              "        5.66406250e-02, -1.04492188e-01,  1.38671875e-01, -1.57226562e-01,\n",
              "        3.23486328e-03, -4.80957031e-02, -2.48046875e-01, -6.20117188e-02],\n",
              "      dtype=float32)"
            ]
          },
          "metadata": {
            "tags": []
          },
          "execution_count": 11
        }
      ]
    },
    {
      "cell_type": "code",
      "metadata": {
        "id": "RdID_35abQQS"
      },
      "source": [
        "text1=df.text1.tolist()\n",
        "text2=df.text2.tolist()"
      ],
      "execution_count": null,
      "outputs": []
    },
    {
      "cell_type": "code",
      "metadata": {
        "colab": {
          "base_uri": "https://localhost:8080/"
        },
        "id": "f_1RQ-5xeGNs",
        "outputId": "a3096098-6ab7-4a5f-905d-1c121707d99c"
      },
      "source": [
        "#downloading one model from spacy\n",
        "!python -m spacy download en"
      ],
      "execution_count": null,
      "outputs": [
        {
          "output_type": "stream",
          "text": [
            "Requirement already satisfied: en_core_web_sm==2.2.5 from https://github.com/explosion/spacy-models/releases/download/en_core_web_sm-2.2.5/en_core_web_sm-2.2.5.tar.gz#egg=en_core_web_sm==2.2.5 in /usr/local/lib/python3.7/dist-packages (2.2.5)\n",
            "Requirement already satisfied: spacy>=2.2.2 in /usr/local/lib/python3.7/dist-packages (from en_core_web_sm==2.2.5) (2.2.4)\n",
            "Requirement already satisfied: plac<1.2.0,>=0.9.6 in /usr/local/lib/python3.7/dist-packages (from spacy>=2.2.2->en_core_web_sm==2.2.5) (1.1.3)\n",
            "Requirement already satisfied: thinc==7.4.0 in /usr/local/lib/python3.7/dist-packages (from spacy>=2.2.2->en_core_web_sm==2.2.5) (7.4.0)\n",
            "Requirement already satisfied: murmurhash<1.1.0,>=0.28.0 in /usr/local/lib/python3.7/dist-packages (from spacy>=2.2.2->en_core_web_sm==2.2.5) (1.0.5)\n",
            "Requirement already satisfied: requests<3.0.0,>=2.13.0 in /usr/local/lib/python3.7/dist-packages (from spacy>=2.2.2->en_core_web_sm==2.2.5) (2.23.0)\n",
            "Requirement already satisfied: wasabi<1.1.0,>=0.4.0 in /usr/local/lib/python3.7/dist-packages (from spacy>=2.2.2->en_core_web_sm==2.2.5) (0.8.2)\n",
            "Requirement already satisfied: catalogue<1.1.0,>=0.0.7 in /usr/local/lib/python3.7/dist-packages (from spacy>=2.2.2->en_core_web_sm==2.2.5) (1.0.0)\n",
            "Requirement already satisfied: preshed<3.1.0,>=3.0.2 in /usr/local/lib/python3.7/dist-packages (from spacy>=2.2.2->en_core_web_sm==2.2.5) (3.0.5)\n",
            "Requirement already satisfied: cymem<2.1.0,>=2.0.2 in /usr/local/lib/python3.7/dist-packages (from spacy>=2.2.2->en_core_web_sm==2.2.5) (2.0.5)\n",
            "Requirement already satisfied: blis<0.5.0,>=0.4.0 in /usr/local/lib/python3.7/dist-packages (from spacy>=2.2.2->en_core_web_sm==2.2.5) (0.4.1)\n",
            "Requirement already satisfied: numpy>=1.15.0 in /usr/local/lib/python3.7/dist-packages (from spacy>=2.2.2->en_core_web_sm==2.2.5) (1.19.5)\n",
            "Requirement already satisfied: tqdm<5.0.0,>=4.38.0 in /usr/local/lib/python3.7/dist-packages (from spacy>=2.2.2->en_core_web_sm==2.2.5) (4.41.1)\n",
            "Requirement already satisfied: setuptools in /usr/local/lib/python3.7/dist-packages (from spacy>=2.2.2->en_core_web_sm==2.2.5) (56.1.0)\n",
            "Requirement already satisfied: srsly<1.1.0,>=1.0.2 in /usr/local/lib/python3.7/dist-packages (from spacy>=2.2.2->en_core_web_sm==2.2.5) (1.0.5)\n",
            "Requirement already satisfied: chardet<4,>=3.0.2 in /usr/local/lib/python3.7/dist-packages (from requests<3.0.0,>=2.13.0->spacy>=2.2.2->en_core_web_sm==2.2.5) (3.0.4)\n",
            "Requirement already satisfied: certifi>=2017.4.17 in /usr/local/lib/python3.7/dist-packages (from requests<3.0.0,>=2.13.0->spacy>=2.2.2->en_core_web_sm==2.2.5) (2020.12.5)\n",
            "Requirement already satisfied: idna<3,>=2.5 in /usr/local/lib/python3.7/dist-packages (from requests<3.0.0,>=2.13.0->spacy>=2.2.2->en_core_web_sm==2.2.5) (2.10)\n",
            "Requirement already satisfied: urllib3!=1.25.0,!=1.25.1,<1.26,>=1.21.1 in /usr/local/lib/python3.7/dist-packages (from requests<3.0.0,>=2.13.0->spacy>=2.2.2->en_core_web_sm==2.2.5) (1.24.3)\n",
            "Requirement already satisfied: importlib-metadata>=0.20; python_version < \"3.8\" in /usr/local/lib/python3.7/dist-packages (from catalogue<1.1.0,>=0.0.7->spacy>=2.2.2->en_core_web_sm==2.2.5) (4.0.1)\n",
            "Requirement already satisfied: zipp>=0.5 in /usr/local/lib/python3.7/dist-packages (from importlib-metadata>=0.20; python_version < \"3.8\"->catalogue<1.1.0,>=0.0.7->spacy>=2.2.2->en_core_web_sm==2.2.5) (3.4.1)\n",
            "Requirement already satisfied: typing-extensions>=3.6.4; python_version < \"3.8\" in /usr/local/lib/python3.7/dist-packages (from importlib-metadata>=0.20; python_version < \"3.8\"->catalogue<1.1.0,>=0.0.7->spacy>=2.2.2->en_core_web_sm==2.2.5) (3.7.4.3)\n",
            "\u001b[38;5;2m✔ Download and installation successful\u001b[0m\n",
            "You can now load the model via spacy.load('en_core_web_sm')\n",
            "\u001b[38;5;2m✔ Linking successful\u001b[0m\n",
            "/usr/local/lib/python3.7/dist-packages/en_core_web_sm -->\n",
            "/usr/local/lib/python3.7/dist-packages/spacy/data/en\n",
            "You can now load the model via spacy.load('en')\n"
          ],
          "name": "stdout"
        }
      ]
    },
    {
      "cell_type": "code",
      "metadata": {
        "colab": {
          "base_uri": "https://localhost:8080/"
        },
        "id": "1a33-ZKBcJVq",
        "outputId": "4e192d37-a0fa-482a-9980-a22e3cfbe69f"
      },
      "source": [
        "#getting full vector form of afull sentence\n",
        "import spacy\n",
        "nlp = spacy.load('en')\n",
        "# process a sentence using the model\n",
        "mydoc1 = nlp(\"He claimed the first prize\")\n",
        "#Get a vector for individual words\n",
        "#print(doc[0].vector) #vector for 'Canada', the first word in the text \n",
        "print(mydoc1.vector) #Averaged vector for the entire sentence"
      ],
      "execution_count": null,
      "outputs": [
        {
          "output_type": "stream",
          "text": [
            "[ 0.3620209  -0.01589755  0.73795205  0.6619536   0.6915089   0.06288836\n",
            "  0.0065306   0.4606282   1.8843695   0.7376335  -0.08946385  0.35756987\n",
            " -1.0187318   0.4320526  -2.1145573  -0.83622444 -0.3605052   0.48296326\n",
            " -2.1519215  -0.71831405 -0.21233864 -1.3039311  -0.9245714  -0.4893407\n",
            " -1.9556987   0.20174666 -1.2100987  -1.4504039   1.0124367  -0.6858812\n",
            "  0.93202245 -0.306467   -0.5500347  -0.34786582  1.2820048  -1.88637\n",
            " -0.5202693  -0.98329973 -1.3782289  -0.49845853  2.0106692  -0.00754814\n",
            "  0.43313426 -0.3719442   0.6082352   1.0625111   0.7867502   0.06375372\n",
            " -0.1465433   0.756879    0.5898582  -1.7789272   0.5927583   0.03830198\n",
            " -0.40252534  1.1348393   1.2063932   1.2171171   0.15282646 -0.49123463\n",
            " -0.47331238 -1.0698674   0.66504586  1.0575447   0.20579156  1.216759\n",
            "  0.60096806 -0.6685052  -1.6405945   1.0489334  -0.1793476   1.181071\n",
            " -1.6496738  -0.26168957 -0.12555365 -0.36089373  0.7592236  -0.8700713\n",
            " -1.8870013  -0.61012715  1.3409507  -1.2413847   0.72017825  1.6754519\n",
            "  2.3704824  -0.16190462  0.42742816  1.6026634   1.251213   -0.2846065\n",
            " -0.7494094   0.11174665  0.7733683   1.3866236  -0.15206209  1.3013179 ]\n"
          ],
          "name": "stdout"
        }
      ]
    },
    {
      "cell_type": "code",
      "metadata": {
        "colab": {
          "base_uri": "https://localhost:8080/"
        },
        "id": "fmGuolL-1U6q",
        "outputId": "f61e7780-b8b7-4399-b823-123cc934227c"
      },
      "source": [
        "(mydoc1.vector)"
      ],
      "execution_count": null,
      "outputs": [
        {
          "output_type": "execute_result",
          "data": {
            "text/plain": [
              "array([ 0.3620209 , -0.01589755,  0.73795205,  0.6619536 ,  0.6915089 ,\n",
              "        0.06288836,  0.0065306 ,  0.4606282 ,  1.8843695 ,  0.7376335 ,\n",
              "       -0.08946385,  0.35756987, -1.0187318 ,  0.4320526 , -2.1145573 ,\n",
              "       -0.83622444, -0.3605052 ,  0.48296326, -2.1519215 , -0.71831405,\n",
              "       -0.21233864, -1.3039311 , -0.9245714 , -0.4893407 , -1.9556987 ,\n",
              "        0.20174666, -1.2100987 , -1.4504039 ,  1.0124367 , -0.6858812 ,\n",
              "        0.93202245, -0.306467  , -0.5500347 , -0.34786582,  1.2820048 ,\n",
              "       -1.88637   , -0.5202693 , -0.98329973, -1.3782289 , -0.49845853,\n",
              "        2.0106692 , -0.00754814,  0.43313426, -0.3719442 ,  0.6082352 ,\n",
              "        1.0625111 ,  0.7867502 ,  0.06375372, -0.1465433 ,  0.756879  ,\n",
              "        0.5898582 , -1.7789272 ,  0.5927583 ,  0.03830198, -0.40252534,\n",
              "        1.1348393 ,  1.2063932 ,  1.2171171 ,  0.15282646, -0.49123463,\n",
              "       -0.47331238, -1.0698674 ,  0.66504586,  1.0575447 ,  0.20579156,\n",
              "        1.216759  ,  0.60096806, -0.6685052 , -1.6405945 ,  1.0489334 ,\n",
              "       -0.1793476 ,  1.181071  , -1.6496738 , -0.26168957, -0.12555365,\n",
              "       -0.36089373,  0.7592236 , -0.8700713 , -1.8870013 , -0.61012715,\n",
              "        1.3409507 , -1.2413847 ,  0.72017825,  1.6754519 ,  2.3704824 ,\n",
              "       -0.16190462,  0.42742816,  1.6026634 ,  1.251213  , -0.2846065 ,\n",
              "       -0.7494094 ,  0.11174665,  0.7733683 ,  1.3866236 , -0.15206209,\n",
              "        1.3013179 ], dtype=float32)"
            ]
          },
          "metadata": {
            "tags": []
          },
          "execution_count": 15
        }
      ]
    },
    {
      "cell_type": "code",
      "metadata": {
        "colab": {
          "base_uri": "https://localhost:8080/",
          "height": 120
        },
        "id": "hB5_3UkQ-3CR",
        "outputId": "d33e1bf0-fc12-4573-a149-adaaccbe68bf"
      },
      "source": [
        "text1[0]"
      ],
      "execution_count": null,
      "outputs": [
        {
          "output_type": "execute_result",
          "data": {
            "application/vnd.google.colaboratory.intrinsic+json": {
              "type": "string"
            },
            "text/plain": [
              "'savvi searcher fail spot ad internet search engin user odd mix naiv sophist suggest report search habit report us pew research center reveal 87 searcher usual find look use search engin also show spot differ paid result organ one report reveal 84 net user say regular use googl ask jeev msn yahoo onlin almost 50 question said would trust search engin much less knew inform paid result hidden accord figur gather pew research averag user spend 43 minut per month carri 34 separ search look 1 9 webpag hunt signific chunk net user 36 carri search least week 29 ask look everi week 44 question inform look critic inform simpli find search engin user also tend loyal found site feel trust tend stick accord pew research 44 searcher use singl search engin 48 use two three small number 7 consult three site toni macklin spokesman ask jeev said result reflect research show peopl use differ search engin way site gather inform mean provid differ result queri despit like search site half question said could get inform via rout small number 17 said realli miss search engin exist remain 33 said could live without search site two third question 68 said thought result present fair unbias select inform topic found net alongsid grow sophist net user lack awar paid result mani search engin provid alongsid list websit found index web ask 62 unawar someon paid result see carri search 18 searcher say tell result paid said pew report find iron sinc near half user say would stop use search engin thought engin clear present paid result comment mr macklin said sponsor result must clear mark though might help queri user test show peopl need abl spot differ'"
            ]
          },
          "metadata": {
            "tags": []
          },
          "execution_count": 16
        }
      ]
    },
    {
      "cell_type": "code",
      "metadata": {
        "colab": {
          "base_uri": "https://localhost:8080/",
          "height": 120
        },
        "id": "agjkQdPs-_UU",
        "outputId": "08c4d7a8-eeab-49af-d720-8922e5238350"
      },
      "source": [
        "text2[0]"
      ],
      "execution_count": null,
      "outputs": [
        {
          "output_type": "execute_result",
          "data": {
            "application/vnd.google.colaboratory.intrinsic+json": {
              "type": "string"
            },
            "text/plain": [
              "'newcastl 2 1 bolton kieron dyer smash home winner end bolton 10 game unbeaten run lee bowyer put newcastl ahead fed stephen carr right flank sprint area power home header result cross wander hit back stelio giannakopoulo end fluid pass move well struck volley dyer last word game chanc pounc loos ball alan shearer shot block fire top corner neither side lack urgenc earli stage game plenti tackl fli opportun front goal harder come bolton keeper jussi jaaskelainen make two save quick success midway first half keep shearer low shot dyer close rang header goalmouth action note almost noth magpi took lead 35 minut bowyer found space neat turn half way line stride forward pick carr right continu run perfect time made way box met carr cross downward header far corner bolton produc littl go forward point respond well level within six minut thank smart finish giannakopoulo jay jay okocha twist turn edg area neat exchang pass involv kevin davi gari speed greek striker found bottom corner first time strike magpi open half time davi set giannakopoulo space given block near post home side surviv taken lead first meaning attack second half fernando hierro cynic chop dyer edg area midfield clean veteran defend escap book defend nearbi result free kick laurent robert curl ball wide bolton creat littl go forward seem content frustrat magpi strategi seem work 69th minut alan shearer snap shot charg dyer react first smash ball past despair jaaskelainen six yard bolton boss sam allardyc bitter disappoint result probabl disappoint second half perform first half put lot pressur goal match qualiti thought would lift us might tire play lot game unfortun battl second half allow heap much pressur us end crack newcastl boss graem souness deserv win realli good second half bolton difficult side play match physic first play footbal slow first 45 minut look bit tire got go scorelin flatter could one two goal newcastl given carr boumsong brambl babayaro dyer fay bowyer robert jena 77 ameobi shearer sub use butt harper milner hugh goal bowyer 35 dyer 69 bolton jaaskelainen hunt fadiga 14 n gotti ben haim candela giannakopoulo okocha vaz te 77 hierro campo 64 speed gardner davi sub use jaidi pool book ben haim hierro goal giannakopoulo 41 att 50 430 ref dunn gloucestershir'"
            ]
          },
          "metadata": {
            "tags": []
          },
          "execution_count": 17
        }
      ]
    },
    {
      "cell_type": "code",
      "metadata": {
        "id": "icDzrjksBmRq"
      },
      "source": [
        "example_vec1=(nlp(text1[0])).vector"
      ],
      "execution_count": null,
      "outputs": []
    },
    {
      "cell_type": "code",
      "metadata": {
        "colab": {
          "base_uri": "https://localhost:8080/"
        },
        "id": "wFw_deaV-K15",
        "outputId": "fcd69fbe-ef85-4518-bb0f-b14017ebb836"
      },
      "source": [
        "example_vec1"
      ],
      "execution_count": null,
      "outputs": [
        {
          "output_type": "execute_result",
          "data": {
            "text/plain": [
              "array([-0.5353382 , -0.42059356, -0.97794455,  1.3393344 ,  0.7241896 ,\n",
              "        1.1390245 , -0.3333871 ,  0.7842466 ,  0.8616824 ,  1.8246562 ,\n",
              "        0.6621302 ,  0.12300424,  0.56635356, -1.6600674 , -1.194273  ,\n",
              "       -0.29328278,  0.0148082 ,  1.1751214 , -0.7738678 , -0.4284438 ,\n",
              "        1.0898249 ,  0.02041132, -0.8989274 , -0.13136366, -1.3464755 ,\n",
              "       -0.24311695, -0.39513317, -1.8421342 ,  1.8940842 , -1.155638  ,\n",
              "        0.82116693, -0.36959195,  1.280659  , -1.6239961 , -0.14693405,\n",
              "       -0.9443388 ,  1.7624456 , -1.171524  , -0.25707465,  0.5854374 ,\n",
              "        1.6202538 ,  1.1044476 , -0.27875733, -2.4352345 , -0.33411497,\n",
              "        0.06258636, -0.19126832, -0.2857032 , -0.3224051 ,  0.5731664 ,\n",
              "       -0.08110671, -1.4598508 ,  0.21442264, -0.30378053, -1.9464116 ,\n",
              "        0.7900619 ,  0.75666636,  0.82911044,  0.37478626,  0.33358237,\n",
              "        1.7288601 , -1.4223211 ,  0.54945254, -0.03862204,  1.2170622 ,\n",
              "       -0.47391173,  0.81001514, -1.0284138 , -0.7223689 ,  0.9642395 ,\n",
              "       -0.00876201,  0.7013873 ,  0.00419376, -0.27244687, -0.78335464,\n",
              "       -0.7975672 ,  1.2754215 , -0.5065045 ,  0.48876393,  0.13678798,\n",
              "        0.34794375, -1.6326339 , -1.0939889 ,  0.41473088,  1.2381756 ,\n",
              "        0.66333395, -0.45312688, -0.65795314, -0.37321126,  0.48775947,\n",
              "        0.42192924,  0.03208922, -0.90431404,  1.3937788 ,  1.1292046 ,\n",
              "        0.785304  ], dtype=float32)"
            ]
          },
          "metadata": {
            "tags": []
          },
          "execution_count": 19
        }
      ]
    },
    {
      "cell_type": "code",
      "metadata": {
        "id": "2Tastmxl-OTh"
      },
      "source": [
        "example_vec2=(nlp(text2[0])).vector"
      ],
      "execution_count": null,
      "outputs": []
    },
    {
      "cell_type": "code",
      "metadata": {
        "colab": {
          "base_uri": "https://localhost:8080/"
        },
        "id": "w4wEJAMwBn78",
        "outputId": "c22bf228-ea2f-4e69-e8e5-d339c5328bf3"
      },
      "source": [
        "example_vec2"
      ],
      "execution_count": null,
      "outputs": [
        {
          "output_type": "execute_result",
          "data": {
            "text/plain": [
              "array([ 0.09586918, -0.7180681 , -1.3572825 ,  1.1032252 ,  0.642228  ,\n",
              "        1.7835149 , -0.41683567,  0.8083387 ,  0.8579135 ,  1.6354378 ,\n",
              "        1.5563961 , -0.11976955,  1.1860647 , -1.2702216 , -1.0500904 ,\n",
              "       -0.28734615,  0.31025988,  0.8582171 , -1.1746397 , -0.6948666 ,\n",
              "        1.1033419 , -0.78444064, -0.58646387, -0.58037865, -0.96302783,\n",
              "       -0.25909606, -0.5367973 , -1.2904718 ,  1.9021246 , -1.3634243 ,\n",
              "        0.4709608 , -0.7502414 ,  0.6751075 , -1.3818852 , -0.34907225,\n",
              "       -1.4924061 ,  2.277174  , -1.0592152 , -0.643306  ,  0.29338437,\n",
              "        1.5544162 ,  1.2917528 ,  0.02740993, -1.7540668 , -0.18536858,\n",
              "       -0.00404733, -0.3960101 , -0.51909834, -0.6289124 ,  0.6968914 ,\n",
              "       -0.7837415 , -0.9764297 ,  0.20004973, -0.63890374, -1.9306512 ,\n",
              "        0.6715479 ,  0.94309807,  1.6235938 , -0.15712474, -0.23432456,\n",
              "        0.9549279 , -1.1742626 ,  0.6272981 , -0.26517275,  1.5626752 ,\n",
              "       -0.1158542 ,  0.6806603 , -1.4488014 ,  0.19554615,  0.93392557,\n",
              "       -0.275152  ,  0.5944951 , -0.13552983, -0.17679323, -1.0253506 ,\n",
              "       -1.1907256 ,  0.94840366, -0.14505   , -0.06700594,  0.35231692,\n",
              "        0.55821836, -2.06918   , -1.0004431 , -0.05011464,  1.7317218 ,\n",
              "        1.6591163 ,  0.15319838, -1.1213444 , -0.37080044,  0.48051828,\n",
              "        0.4887303 ,  0.14411084, -0.23055042,  1.96845   ,  1.0206535 ,\n",
              "        0.71631396], dtype=float32)"
            ]
          },
          "metadata": {
            "tags": []
          },
          "execution_count": 21
        }
      ]
    },
    {
      "cell_type": "code",
      "metadata": {
        "id": "Nyh0uQUxCu5D"
      },
      "source": [
        "import scipy"
      ],
      "execution_count": null,
      "outputs": []
    },
    {
      "cell_type": "code",
      "metadata": {
        "colab": {
          "base_uri": "https://localhost:8080/"
        },
        "id": "hslx1vh1-XKl",
        "outputId": "b75ee048-c560-4385-c8e5-786dff805657"
      },
      "source": [
        "print(1-scipy.spatial.distance.cosine(example_vec1,example_vec2))"
      ],
      "execution_count": null,
      "outputs": [
        {
          "output_type": "stream",
          "text": [
            "0.9173871278762817\n"
          ],
          "name": "stdout"
        }
      ]
    },
    {
      "cell_type": "code",
      "metadata": {
        "id": "zQ85absjSmF_"
      },
      "source": [
        "similarity_score=[]\n",
        "for index, row in df.iterrows():\n",
        "  vec1=(nlp(text1[index])).vector\n",
        "  vec2=(nlp(text2[index])).vector\n",
        "  cosine = scipy.spatial.distance.cosine(vec1,vec2)\n",
        "  similarity_score.append(1-cosine)"
      ],
      "execution_count": null,
      "outputs": []
    },
    {
      "cell_type": "code",
      "metadata": {
        "id": "N_zLcY7em4_A"
      },
      "source": [
        "#transforming similarity score sclae [-1,1] to [0,1]\n",
        "Similarity_Score = [((x+1)/2) for x in similarity_score]"
      ],
      "execution_count": null,
      "outputs": []
    },
    {
      "cell_type": "code",
      "metadata": {
        "id": "CFO4Vc-0qU15"
      },
      "source": [
        "df=df.assign(Similarity_Score=Similarity_Score)"
      ],
      "execution_count": null,
      "outputs": []
    },
    {
      "cell_type": "code",
      "metadata": {
        "colab": {
          "base_uri": "https://localhost:8080/",
          "height": 195
        },
        "id": "b5Huati1qY2Z",
        "outputId": "0fa816df-9197-45c8-d837-cbf0a01ff7a0"
      },
      "source": [
        "df.head()"
      ],
      "execution_count": null,
      "outputs": [
        {
          "output_type": "execute_result",
          "data": {
            "text/html": [
              "<div>\n",
              "<style scoped>\n",
              "    .dataframe tbody tr th:only-of-type {\n",
              "        vertical-align: middle;\n",
              "    }\n",
              "\n",
              "    .dataframe tbody tr th {\n",
              "        vertical-align: top;\n",
              "    }\n",
              "\n",
              "    .dataframe thead th {\n",
              "        text-align: right;\n",
              "    }\n",
              "</style>\n",
              "<table border=\"1\" class=\"dataframe\">\n",
              "  <thead>\n",
              "    <tr style=\"text-align: right;\">\n",
              "      <th></th>\n",
              "      <th>Unique_ID</th>\n",
              "      <th>text1</th>\n",
              "      <th>text2</th>\n",
              "      <th>Similarity_Score</th>\n",
              "    </tr>\n",
              "  </thead>\n",
              "  <tbody>\n",
              "    <tr>\n",
              "      <th>0</th>\n",
              "      <td>0</td>\n",
              "      <td>savvi searcher fail spot ad internet search en...</td>\n",
              "      <td>newcastl 2 1 bolton kieron dyer smash home win...</td>\n",
              "      <td>0.958694</td>\n",
              "    </tr>\n",
              "    <tr>\n",
              "      <th>1</th>\n",
              "      <td>1</td>\n",
              "      <td>million miss net 2025 40 uk popul still withou...</td>\n",
              "      <td>nasdaq plan 100m share sale owner technolog do...</td>\n",
              "      <td>0.977436</td>\n",
              "    </tr>\n",
              "    <tr>\n",
              "      <th>2</th>\n",
              "      <td>2</td>\n",
              "      <td>young debut cut short ginepri fifteen year old...</td>\n",
              "      <td>ruddock back yapp credenti wale coach mike rud...</td>\n",
              "      <td>0.930323</td>\n",
              "    </tr>\n",
              "    <tr>\n",
              "      <th>3</th>\n",
              "      <td>3</td>\n",
              "      <td>diageo buy us wine firm diageo world biggest s...</td>\n",
              "      <td>mci share climb takeov bid share us phone comp...</td>\n",
              "      <td>0.981575</td>\n",
              "    </tr>\n",
              "    <tr>\n",
              "      <th>4</th>\n",
              "      <td>4</td>\n",
              "      <td>care code new european direct could put softwa...</td>\n",
              "      <td>media gadget get move pocket size devic let pe...</td>\n",
              "      <td>0.992663</td>\n",
              "    </tr>\n",
              "  </tbody>\n",
              "</table>\n",
              "</div>"
            ],
            "text/plain": [
              "   Unique_ID  ... Similarity_Score\n",
              "0          0  ...         0.958694\n",
              "1          1  ...         0.977436\n",
              "2          2  ...         0.930323\n",
              "3          3  ...         0.981575\n",
              "4          4  ...         0.992663\n",
              "\n",
              "[5 rows x 4 columns]"
            ]
          },
          "metadata": {
            "tags": []
          },
          "execution_count": 27
        }
      ]
    },
    {
      "cell_type": "code",
      "metadata": {
        "id": "OBJ9KHDRqeNB",
        "colab": {
          "base_uri": "https://localhost:8080/",
          "height": 195
        },
        "outputId": "bddb2c69-a524-4172-d2ca-dad9188ee2be"
      },
      "source": [
        "df=df[['Unique_ID','Similarity_Score']]\n",
        "df.head()"
      ],
      "execution_count": null,
      "outputs": [
        {
          "output_type": "execute_result",
          "data": {
            "text/html": [
              "<div>\n",
              "<style scoped>\n",
              "    .dataframe tbody tr th:only-of-type {\n",
              "        vertical-align: middle;\n",
              "    }\n",
              "\n",
              "    .dataframe tbody tr th {\n",
              "        vertical-align: top;\n",
              "    }\n",
              "\n",
              "    .dataframe thead th {\n",
              "        text-align: right;\n",
              "    }\n",
              "</style>\n",
              "<table border=\"1\" class=\"dataframe\">\n",
              "  <thead>\n",
              "    <tr style=\"text-align: right;\">\n",
              "      <th></th>\n",
              "      <th>Unique_ID</th>\n",
              "      <th>Similarity_Score</th>\n",
              "    </tr>\n",
              "  </thead>\n",
              "  <tbody>\n",
              "    <tr>\n",
              "      <th>0</th>\n",
              "      <td>0</td>\n",
              "      <td>0.958694</td>\n",
              "    </tr>\n",
              "    <tr>\n",
              "      <th>1</th>\n",
              "      <td>1</td>\n",
              "      <td>0.977436</td>\n",
              "    </tr>\n",
              "    <tr>\n",
              "      <th>2</th>\n",
              "      <td>2</td>\n",
              "      <td>0.930323</td>\n",
              "    </tr>\n",
              "    <tr>\n",
              "      <th>3</th>\n",
              "      <td>3</td>\n",
              "      <td>0.981575</td>\n",
              "    </tr>\n",
              "    <tr>\n",
              "      <th>4</th>\n",
              "      <td>4</td>\n",
              "      <td>0.992663</td>\n",
              "    </tr>\n",
              "  </tbody>\n",
              "</table>\n",
              "</div>"
            ],
            "text/plain": [
              "   Unique_ID  Similarity_Score\n",
              "0          0          0.958694\n",
              "1          1          0.977436\n",
              "2          2          0.930323\n",
              "3          3          0.981575\n",
              "4          4          0.992663"
            ]
          },
          "metadata": {
            "tags": []
          },
          "execution_count": 28
        }
      ]
    },
    {
      "cell_type": "code",
      "metadata": {
        "colab": {
          "base_uri": "https://localhost:8080/",
          "height": 17
        },
        "id": "TEweDjJMFSRK",
        "outputId": "884366bc-43cd-4164-a1c9-11e645875f8c"
      },
      "source": [
        "from google.colab import files\n",
        "df.to_csv('df_word2vec_sts.csv')\n",
        "files.download('df_word2vec_sts.csv')"
      ],
      "execution_count": null,
      "outputs": [
        {
          "output_type": "display_data",
          "data": {
            "application/javascript": [
              "\n",
              "    async function download(id, filename, size) {\n",
              "      if (!google.colab.kernel.accessAllowed) {\n",
              "        return;\n",
              "      }\n",
              "      const div = document.createElement('div');\n",
              "      const label = document.createElement('label');\n",
              "      label.textContent = `Downloading \"${filename}\": `;\n",
              "      div.appendChild(label);\n",
              "      const progress = document.createElement('progress');\n",
              "      progress.max = size;\n",
              "      div.appendChild(progress);\n",
              "      document.body.appendChild(div);\n",
              "\n",
              "      const buffers = [];\n",
              "      let downloaded = 0;\n",
              "\n",
              "      const channel = await google.colab.kernel.comms.open(id);\n",
              "      // Send a message to notify the kernel that we're ready.\n",
              "      channel.send({})\n",
              "\n",
              "      for await (const message of channel.messages) {\n",
              "        // Send a message to notify the kernel that we're ready.\n",
              "        channel.send({})\n",
              "        if (message.buffers) {\n",
              "          for (const buffer of message.buffers) {\n",
              "            buffers.push(buffer);\n",
              "            downloaded += buffer.byteLength;\n",
              "            progress.value = downloaded;\n",
              "          }\n",
              "        }\n",
              "      }\n",
              "      const blob = new Blob(buffers, {type: 'application/binary'});\n",
              "      const a = document.createElement('a');\n",
              "      a.href = window.URL.createObjectURL(blob);\n",
              "      a.download = filename;\n",
              "      div.appendChild(a);\n",
              "      a.click();\n",
              "      div.remove();\n",
              "    }\n",
              "  "
            ],
            "text/plain": [
              "<IPython.core.display.Javascript object>"
            ]
          },
          "metadata": {
            "tags": []
          }
        },
        {
          "output_type": "display_data",
          "data": {
            "application/javascript": [
              "download(\"download_38239dbf-1ba2-40a0-808d-05884467c22c\", \"df_word2vec_sts.csv\", 113948)"
            ],
            "text/plain": [
              "<IPython.core.display.Javascript object>"
            ]
          },
          "metadata": {
            "tags": []
          }
        }
      ]
    },
    {
      "cell_type": "code",
      "metadata": {
        "colab": {
          "base_uri": "https://localhost:8080/",
          "height": 304
        },
        "id": "K5CqSoTLFmfZ",
        "outputId": "d2bf88c9-40e3-4ef6-beb3-282d85d140dd"
      },
      "source": [
        "#for printing\n",
        "!wget -nc https://raw.githubusercontent.com/brpy/colab-pdf/master/colab_pdf.py\n",
        "from colab_pdf import colab_pdf\n",
        "colab_pdf('Word2vec-sts_1.ipynb')"
      ],
      "execution_count": null,
      "outputs": [
        {
          "output_type": "stream",
          "text": [
            "File ‘colab_pdf.py’ already there; not retrieving.\n",
            "\n",
            "\n",
            "WARNING: apt does not have a stable CLI interface. Use with caution in scripts.\n",
            "\n",
            "\n",
            "WARNING: apt does not have a stable CLI interface. Use with caution in scripts.\n",
            "\n",
            "[NbConvertApp] Converting notebook /content/drive/My Drive/Colab Notebooks/Word2vec-sts_1.ipynb to pdf\n",
            "[NbConvertApp] Writing 57168 bytes to ./notebook.tex\n",
            "[NbConvertApp] Building PDF\n",
            "[NbConvertApp] Running xelatex 3 times: [u'xelatex', u'./notebook.tex', '-quiet']\n",
            "[NbConvertApp] Running bibtex 1 time: [u'bibtex', u'./notebook']\n",
            "[NbConvertApp] WARNING | bibtex had problems, most likely because there were no citations\n",
            "[NbConvertApp] PDF successfully created\n",
            "[NbConvertApp] Writing 44514 bytes to /content/drive/My Drive/Word2vec-sts_1.pdf\n"
          ],
          "name": "stdout"
        },
        {
          "output_type": "display_data",
          "data": {
            "application/javascript": [
              "\n",
              "    async function download(id, filename, size) {\n",
              "      if (!google.colab.kernel.accessAllowed) {\n",
              "        return;\n",
              "      }\n",
              "      const div = document.createElement('div');\n",
              "      const label = document.createElement('label');\n",
              "      label.textContent = `Downloading \"${filename}\": `;\n",
              "      div.appendChild(label);\n",
              "      const progress = document.createElement('progress');\n",
              "      progress.max = size;\n",
              "      div.appendChild(progress);\n",
              "      document.body.appendChild(div);\n",
              "\n",
              "      const buffers = [];\n",
              "      let downloaded = 0;\n",
              "\n",
              "      const channel = await google.colab.kernel.comms.open(id);\n",
              "      // Send a message to notify the kernel that we're ready.\n",
              "      channel.send({})\n",
              "\n",
              "      for await (const message of channel.messages) {\n",
              "        // Send a message to notify the kernel that we're ready.\n",
              "        channel.send({})\n",
              "        if (message.buffers) {\n",
              "          for (const buffer of message.buffers) {\n",
              "            buffers.push(buffer);\n",
              "            downloaded += buffer.byteLength;\n",
              "            progress.value = downloaded;\n",
              "          }\n",
              "        }\n",
              "      }\n",
              "      const blob = new Blob(buffers, {type: 'application/binary'});\n",
              "      const a = document.createElement('a');\n",
              "      a.href = window.URL.createObjectURL(blob);\n",
              "      a.download = filename;\n",
              "      div.appendChild(a);\n",
              "      a.click();\n",
              "      div.remove();\n",
              "    }\n",
              "  "
            ],
            "text/plain": [
              "<IPython.core.display.Javascript object>"
            ]
          },
          "metadata": {
            "tags": []
          }
        },
        {
          "output_type": "display_data",
          "data": {
            "application/javascript": [
              "download(\"download_faaf2d66-fb04-4a4e-8c8c-21d03d7c22a2\", \"Word2vec-sts_1.pdf\", 44514)"
            ],
            "text/plain": [
              "<IPython.core.display.Javascript object>"
            ]
          },
          "metadata": {
            "tags": []
          }
        },
        {
          "output_type": "execute_result",
          "data": {
            "application/vnd.google.colaboratory.intrinsic+json": {
              "type": "string"
            },
            "text/plain": [
              "'File ready to be Downloaded and Saved to Drive'"
            ]
          },
          "metadata": {
            "tags": []
          },
          "execution_count": 30
        }
      ]
    }
  ]
}